{
 "cells": [
  {
   "cell_type": "code",
   "execution_count": 1,
   "id": "8b5cae25",
   "metadata": {
    "_cell_guid": "b1076dfc-b9ad-4769-8c92-a6c4dae69d19",
    "_uuid": "8f2839f25d086af736a60e9eeb907d3b93b6e0e5",
    "execution": {
     "iopub.execute_input": "2025-09-18T16:48:21.476581Z",
     "iopub.status.busy": "2025-09-18T16:48:21.476164Z",
     "iopub.status.idle": "2025-09-18T16:48:43.296814Z",
     "shell.execute_reply": "2025-09-18T16:48:43.294617Z"
    },
    "papermill": {
     "duration": 21.827488,
     "end_time": "2025-09-18T16:48:43.299050",
     "exception": false,
     "start_time": "2025-09-18T16:48:21.471562",
     "status": "completed"
    },
    "tags": []
   },
   "outputs": [
    {
     "name": "stderr",
     "output_type": "stream",
     "text": [
      "2025-09-18 16:48:23.335332: E external/local_xla/xla/stream_executor/cuda/cuda_fft.cc:477] Unable to register cuFFT factory: Attempting to register factory for plugin cuFFT when one has already been registered\n",
      "WARNING: All log messages before absl::InitializeLog() is called are written to STDERR\n",
      "E0000 00:00:1758214103.600210      13 cuda_dnn.cc:8310] Unable to register cuDNN factory: Attempting to register factory for plugin cuDNN when one has already been registered\n",
      "E0000 00:00:1758214103.672924      13 cuda_blas.cc:1418] Unable to register cuBLAS factory: Attempting to register factory for plugin cuBLAS when one has already been registered\n"
     ]
    },
    {
     "name": "stdout",
     "output_type": "stream",
     "text": [
      "Libraries imported successfully!\n"
     ]
    }
   ],
   "source": [
    "# Import TensorFlow, the main library for building our model\n",
    "import tensorflow as tf\n",
    "\n",
    "# Import the specific tools we need from Keras (part of TensorFlow)\n",
    "from tensorflow.keras.datasets import mnist\n",
    "from tensorflow.keras.models import Sequential\n",
    "from tensorflow.keras.layers import Flatten, Dense\n",
    "from tensorflow.keras.utils import to_categorical\n",
    "\n",
    "# Import other helpful libraries\n",
    "import numpy as np\n",
    "import matplotlib.pyplot as plt\n",
    "\n",
    "print(\"Libraries imported successfully!\")"
   ]
  },
  {
   "cell_type": "code",
   "execution_count": 2,
   "id": "05c21ab8",
   "metadata": {
    "execution": {
     "iopub.execute_input": "2025-09-18T16:48:43.306850Z",
     "iopub.status.busy": "2025-09-18T16:48:43.306082Z",
     "iopub.status.idle": "2025-09-18T16:48:43.790217Z",
     "shell.execute_reply": "2025-09-18T16:48:43.789094Z"
    },
    "papermill": {
     "duration": 0.489898,
     "end_time": "2025-09-18T16:48:43.792202",
     "exception": false,
     "start_time": "2025-09-18T16:48:43.302304",
     "status": "completed"
    },
    "tags": []
   },
   "outputs": [
    {
     "name": "stdout",
     "output_type": "stream",
     "text": [
      "Downloading data from https://storage.googleapis.com/tensorflow/tf-keras-datasets/mnist.npz\n",
      "\u001b[1m11490434/11490434\u001b[0m \u001b[32m━━━━━━━━━━━━━━━━━━━━\u001b[0m\u001b[37m\u001b[0m \u001b[1m0s\u001b[0m 0us/step\n",
      "Dataset loaded successfully!\n",
      "Number of training images: 60000\n",
      "Number of testing images: 10000\n"
     ]
    }
   ],
   "source": [
    "# Load the dataset and split it into training and testing sets\n",
    "(x_train, y_train), (x_test, y_test) = mnist.load_data()\n",
    "\n",
    "print(\"Dataset loaded successfully!\")\n",
    "print(f\"Number of training images: {len(x_train)}\")\n",
    "print(f\"Number of testing images: {len(x_test)}\")"
   ]
  },
  {
   "cell_type": "code",
   "execution_count": 3,
   "id": "f7b82eb8",
   "metadata": {
    "execution": {
     "iopub.execute_input": "2025-09-18T16:48:43.800811Z",
     "iopub.status.busy": "2025-09-18T16:48:43.799915Z",
     "iopub.status.idle": "2025-09-18T16:48:44.070031Z",
     "shell.execute_reply": "2025-09-18T16:48:44.068652Z"
    },
    "papermill": {
     "duration": 0.276313,
     "end_time": "2025-09-18T16:48:44.072274",
     "exception": false,
     "start_time": "2025-09-18T16:48:43.795961",
     "status": "completed"
    },
    "tags": []
   },
   "outputs": [
    {
     "name": "stdout",
     "output_type": "stream",
     "text": [
      "This image is supposed to be the number: 3\n"
     ]
    },
    {
     "data": {
      "image/png": "[encoded data removed]",
      "text/plain": [
       "<Figure size 640x480 with 1 Axes>"
      ]
     },
     "metadata": {},
     "output_type": "display_data"
    }
   ],
   "source": [
    "# Let's see what the first training image looks like\n",
    "image_index = 10\n",
    "\n",
    "# Print the label for the first image\n",
    "print(f\"This image is supposed to be the number: {y_train[image_index]}\")\n",
    "\n",
    "# Display the image\n",
    "plt.imshow(x_train[image_index], cmap='Greys')\n",
    "plt.show()"
   ]
  },
  {
   "cell_type": "code",
   "execution_count": 4,
   "id": "341db71c",
   "metadata": {
    "execution": {
     "iopub.execute_input": "2025-09-18T16:48:44.081009Z",
     "iopub.status.busy": "2025-09-18T16:48:44.080648Z",
     "iopub.status.idle": "2025-09-18T16:48:44.283870Z",
     "shell.execute_reply": "2025-09-18T16:48:44.282386Z"
    },
    "papermill": {
     "duration": 0.209709,
     "end_time": "2025-09-18T16:48:44.285741",
     "exception": false,
     "start_time": "2025-09-18T16:48:44.076032",
     "status": "completed"
    },
    "tags": []
   },
   "outputs": [
    {
     "name": "stdout",
     "output_type": "stream",
     "text": [
      "Data preprocessing complete!\n",
      "New shape of training images: (60000, 784)\n",
      "Example of the first one-hot encoded label (which was a 5): \n",
      "[0. 0. 0. 0. 0. 1. 0. 0. 0. 0.]\n"
     ]
    }
   ],
   "source": [
    "# Our model expects a 1D vector of inputs, so we flatten the 28x28 images\n",
    "# into a single 784-pixel line (28 * 28 = 784).\n",
    "x_train = x_train.reshape(60000, 784)\n",
    "x_test = x_test.reshape(10000, 784)\n",
    "\n",
    "# We normalize the pixel values from a range of 0-255 to a range of 0-1.\n",
    "# This helps the model learn more efficiently.\n",
    "x_train = x_train.astype('float32') / 255\n",
    "x_test = x_test.astype('float32') / 255\n",
    "\n",
    "# We also need to convert our labels (0, 1, 2, etc.) into a \"one-hot\" format.\n",
    "# For example, the number 5 becomes an array where the 6th position is 1 and all others are 0.\n",
    "y_train = to_categorical(y_train, 10)\n",
    "y_test = to_categorical(y_test, 10)\n",
    "\n",
    "print(\"Data preprocessing complete!\")\n",
    "print(f\"New shape of training images: {x_train.shape}\")\n",
    "print(f\"Example of the first one-hot encoded label (which was a 5): \\n{y_train[0]}\")"
   ]
  },
  {
   "cell_type": "code",
   "execution_count": 5,
   "id": "a03fa0d7",
   "metadata": {
    "execution": {
     "iopub.execute_input": "2025-09-18T16:48:44.294994Z",
     "iopub.status.busy": "2025-09-18T16:48:44.294669Z",
     "iopub.status.idle": "2025-09-18T16:48:44.407844Z",
     "shell.execute_reply": "2025-09-18T16:48:44.406292Z"
    },
    "papermill": {
     "duration": 0.121365,
     "end_time": "2025-09-18T16:48:44.411277",
     "exception": false,
     "start_time": "2025-09-18T16:48:44.289912",
     "status": "completed"
    },
    "tags": []
   },
   "outputs": [
    {
     "name": "stderr",
     "output_type": "stream",
     "text": [
      "/usr/local/lib/python3.11/dist-packages/keras/src/layers/core/dense.py:87: UserWarning: Do not pass an `input_shape`/`input_dim` argument to a layer. When using Sequential models, prefer using an `Input(shape)` object as the first layer in the model instead.\n",
      "  super().__init__(activity_regularizer=activity_regularizer, **kwargs)\n",
      "2025-09-18 16:48:44.308819: E external/local_xla/xla/stream_executor/cuda/cuda_driver.cc:152] failed call to cuInit: INTERNAL: CUDA error: Failed call to cuInit: UNKNOWN ERROR (303)\n"
     ]
    },
    {
     "data": {
      "text/html": [
       "<pre style=\"white-space:pre;overflow-x:auto;line-height:normal;font-family:Menlo,'DejaVu Sans Mono',consolas,'Courier New',monospace\"><span style=\"font-weight: bold\">Model: \"sequential\"</span>\n",
       "</pre>\n"
      ],
      "text/plain": [
       "\u001b[1mModel: \"sequential\"\u001b[0m\n"
      ]
     },
     "metadata": {},
     "output_type": "display_data"
    },
    {
     "data": {
      "text/html": [
       "<pre style=\"white-space:pre;overflow-x:auto;line-height:normal;font-family:Menlo,'DejaVu Sans Mono',consolas,'Courier New',monospace\">┏━━━━━━━━━━━━━━━━━━━━━━━━━━━━━━━━━┳━━━━━━━━━━━━━━━━━━━━━━━━┳━━━━━━━━━━━━━━━┓\n",
       "┃<span style=\"font-weight: bold\"> Layer (type)                    </span>┃<span style=\"font-weight: bold\"> Output Shape           </span>┃<span style=\"font-weight: bold\">       Param # </span>┃\n",
       "┡━━━━━━━━━━━━━━━━━━━━━━━━━━━━━━━━━╇━━━━━━━━━━━━━━━━━━━━━━━━╇━━━━━━━━━━━━━━━┩\n",
       "│ dense (<span style=\"color: #0087ff; text-decoration-color: #0087ff\">Dense</span>)                   │ (<span style=\"color: #00d7ff; text-decoration-color: #00d7ff\">None</span>, <span style=\"color: #00af00; text-decoration-color: #00af00\">128</span>)            │       <span style=\"color: #00af00; text-decoration-color: #00af00\">100,480</span> │\n",
       "├─────────────────────────────────┼────────────────────────┼───────────────┤\n",
       "│ dense_1 (<span style=\"color: #0087ff; text-decoration-color: #0087ff\">Dense</span>)                 │ (<span style=\"color: #00d7ff; text-decoration-color: #00d7ff\">None</span>, <span style=\"color: #00af00; text-decoration-color: #00af00\">10</span>)             │         <span style=\"color: #00af00; text-decoration-color: #00af00\">1,290</span> │\n",
       "└─────────────────────────────────┴────────────────────────┴───────────────┘\n",
       "</pre>\n"
      ],
      "text/plain": [
       "┏━━━━━━━━━━━━━━━━━━━━━━━━━━━━━━━━━┳━━━━━━━━━━━━━━━━━━━━━━━━┳━━━━━━━━━━━━━━━┓\n",
       "┃\u001b[1m \u001b[0m\u001b[1mLayer (type)                   \u001b[0m\u001b[1m \u001b[0m┃\u001b[1m \u001b[0m\u001b[1mOutput Shape          \u001b[0m\u001b[1m \u001b[0m┃\u001b[1m \u001b[0m\u001b[1m      Param #\u001b[0m\u001b[1m \u001b[0m┃\n",
       "┡━━━━━━━━━━━━━━━━━━━━━━━━━━━━━━━━━╇━━━━━━━━━━━━━━━━━━━━━━━━╇━━━━━━━━━━━━━━━┩\n",
       "│ dense (\u001b[38;5;33mDense\u001b[0m)                   │ (\u001b[38;5;45mNone\u001b[0m, \u001b[38;5;34m128\u001b[0m)            │       \u001b[38;5;34m100,480\u001b[0m │\n",
       "├─────────────────────────────────┼────────────────────────┼───────────────┤\n",
       "│ dense_1 (\u001b[38;5;33mDense\u001b[0m)                 │ (\u001b[38;5;45mNone\u001b[0m, \u001b[38;5;34m10\u001b[0m)             │         \u001b[38;5;34m1,290\u001b[0m │\n",
       "└─────────────────────────────────┴────────────────────────┴───────────────┘\n"
      ]
     },
     "metadata": {},
     "output_type": "display_data"
    },
    {
     "data": {
      "text/html": [
       "<pre style=\"white-space:pre;overflow-x:auto;line-height:normal;font-family:Menlo,'DejaVu Sans Mono',consolas,'Courier New',monospace\"><span style=\"font-weight: bold\"> Total params: </span><span style=\"color: #00af00; text-decoration-color: #00af00\">101,770</span> (397.54 KB)\n",
       "</pre>\n"
      ],
      "text/plain": [
       "\u001b[1m Total params: \u001b[0m\u001b[38;5;34m101,770\u001b[0m (397.54 KB)\n"
      ]
     },
     "metadata": {},
     "output_type": "display_data"
    },
    {
     "data": {
      "text/html": [
       "<pre style=\"white-space:pre;overflow-x:auto;line-height:normal;font-family:Menlo,'DejaVu Sans Mono',consolas,'Courier New',monospace\"><span style=\"font-weight: bold\"> Trainable params: </span><span style=\"color: #00af00; text-decoration-color: #00af00\">101,770</span> (397.54 KB)\n",
       "</pre>\n"
      ],
      "text/plain": [
       "\u001b[1m Trainable params: \u001b[0m\u001b[38;5;34m101,770\u001b[0m (397.54 KB)\n"
      ]
     },
     "metadata": {},
     "output_type": "display_data"
    },
    {
     "data": {
      "text/html": [
       "<pre style=\"white-space:pre;overflow-x:auto;line-height:normal;font-family:Menlo,'DejaVu Sans Mono',consolas,'Courier New',monospace\"><span style=\"font-weight: bold\"> Non-trainable params: </span><span style=\"color: #00af00; text-decoration-color: #00af00\">0</span> (0.00 B)\n",
       "</pre>\n"
      ],
      "text/plain": [
       "\u001b[1m Non-trainable params: \u001b[0m\u001b[38;5;34m0\u001b[0m (0.00 B)\n"
      ]
     },
     "metadata": {},
     "output_type": "display_data"
    }
   ],
   "source": [
    "# Define the model architecture\n",
    "model = Sequential([\n",
    "    # First layer: A Dense layer with 128 neurons.\n",
    "    # The 'relu' activation function helps the model learn complex patterns.\n",
    "    # We specify input_shape=(784,) because our flattened images are 784 pixels long.\n",
    "    Dense(128, activation='relu', input_shape=(784,)),\n",
    "    \n",
    "    # Output layer: A Dense layer with 10 neurons (one for each digit from 0-9).\n",
    "    # The 'softmax' activation function turns the output into a probability score for each digit.\n",
    "    Dense(10, activation='softmax')\n",
    "])\n",
    "\n",
    "# Print a summary of the model's architecture\n",
    "model.summary()"
   ]
  },
  {
   "cell_type": "code",
   "execution_count": 6,
   "id": "d6bcddcf",
   "metadata": {
    "execution": {
     "iopub.execute_input": "2025-09-18T16:48:44.421569Z",
     "iopub.status.busy": "2025-09-18T16:48:44.421187Z",
     "iopub.status.idle": "2025-09-18T16:48:44.440629Z",
     "shell.execute_reply": "2025-09-18T16:48:44.438705Z"
    },
    "papermill": {
     "duration": 0.026455,
     "end_time": "2025-09-18T16:48:44.442395",
     "exception": false,
     "start_time": "2025-09-18T16:48:44.415940",
     "status": "completed"
    },
    "tags": []
   },
   "outputs": [
    {
     "name": "stdout",
     "output_type": "stream",
     "text": [
      "Model compiled successfully!\n"
     ]
    }
   ],
   "source": [
    "model.compile(optimizer='adam',\n",
    "              loss='categorical_crossentropy',\n",
    "              metrics=['accuracy'])\n",
    "\n",
    "print(\"Model compiled successfully!\")"
   ]
  },
  {
   "cell_type": "code",
   "execution_count": 7,
   "id": "1b038719",
   "metadata": {
    "execution": {
     "iopub.execute_input": "2025-09-18T16:48:44.454730Z",
     "iopub.status.busy": "2025-09-18T16:48:44.454045Z",
     "iopub.status.idle": "2025-09-18T16:49:27.518197Z",
     "shell.execute_reply": "2025-09-18T16:49:27.517152Z"
    },
    "papermill": {
     "duration": 43.072942,
     "end_time": "2025-09-18T16:49:27.519910",
     "exception": false,
     "start_time": "2025-09-18T16:48:44.446968",
     "status": "completed"
    },
    "tags": []
   },
   "outputs": [
    {
     "name": "stdout",
     "output_type": "stream",
     "text": [
      "Epoch 1/5\n",
      "\u001b[1m1875/1875\u001b[0m \u001b[32m━━━━━━━━━━━━━━━━━━━━\u001b[0m\u001b[37m\u001b[0m \u001b[1m11s\u001b[0m 5ms/step - accuracy: 0.8762 - loss: 0.4330 - val_accuracy: 0.9583 - val_loss: 0.1422\n",
      "Epoch 2/5\n",
      "\u001b[1m1875/1875\u001b[0m \u001b[32m━━━━━━━━━━━━━━━━━━━━\u001b[0m\u001b[37m\u001b[0m \u001b[1m8s\u001b[0m 4ms/step - accuracy: 0.9639 - loss: 0.1223 - val_accuracy: 0.9662 - val_loss: 0.1053\n",
      "Epoch 3/5\n",
      "\u001b[1m1875/1875\u001b[0m \u001b[32m━━━━━━━━━━━━━━━━━━━━\u001b[0m\u001b[37m\u001b[0m \u001b[1m8s\u001b[0m 4ms/step - accuracy: 0.9755 - loss: 0.0801 - val_accuracy: 0.9715 - val_loss: 0.0943\n",
      "Epoch 4/5\n",
      "\u001b[1m1875/1875\u001b[0m \u001b[32m━━━━━━━━━━━━━━━━━━━━\u001b[0m\u001b[37m\u001b[0m \u001b[1m8s\u001b[0m 4ms/step - accuracy: 0.9824 - loss: 0.0586 - val_accuracy: 0.9725 - val_loss: 0.0904\n",
      "Epoch 5/5\n",
      "\u001b[1m1875/1875\u001b[0m \u001b[32m━━━━━━━━━━━━━━━━━━━━\u001b[0m\u001b[37m\u001b[0m \u001b[1m8s\u001b[0m 4ms/step - accuracy: 0.9874 - loss: 0.0434 - val_accuracy: 0.9751 - val_loss: 0.0794\n",
      "\n",
      "Training complete! 🎉\n"
     ]
    }
   ],
   "source": [
    "# Train the model!\n",
    "# We're telling it to go through the data 5 times (epochs)\n",
    "# and to use the test data for validation to check its progress.\n",
    "history = model.fit(x_train, y_train,\n",
    "                    epochs=5,\n",
    "                    validation_data=(x_test, y_test))\n",
    "\n",
    "print(\"\\nTraining complete! 🎉\")"
   ]
  },
  {
   "cell_type": "code",
   "execution_count": 8,
   "id": "24dbcc8e",
   "metadata": {
    "execution": {
     "iopub.execute_input": "2025-09-18T16:49:27.604317Z",
     "iopub.status.busy": "2025-09-18T16:49:27.603903Z",
     "iopub.status.idle": "2025-09-18T16:49:28.645579Z",
     "shell.execute_reply": "2025-09-18T16:49:28.644092Z"
    },
    "papermill": {
     "duration": 1.085496,
     "end_time": "2025-09-18T16:49:28.647449",
     "exception": false,
     "start_time": "2025-09-18T16:49:27.561953",
     "status": "completed"
    },
    "tags": []
   },
   "outputs": [
    {
     "name": "stdout",
     "output_type": "stream",
     "text": [
      "\u001b[1m313/313\u001b[0m \u001b[32m━━━━━━━━━━━━━━━━━━━━\u001b[0m\u001b[37m\u001b[0m \u001b[1m1s\u001b[0m 3ms/step - accuracy: 0.9703 - loss: 0.0956\n",
      "\n",
      "Final Test Accuracy: 97.51%\n"
     ]
    }
   ],
   "source": [
    "# Evaluate the model on the test set to get the final numbers\n",
    "loss, accuracy = model.evaluate(x_test, y_test)\n",
    "\n",
    "print(f\"\\nFinal Test Accuracy: {accuracy * 100:.2f}%\")"
   ]
  },
  {
   "cell_type": "code",
   "execution_count": 9,
   "id": "5b8af6b3",
   "metadata": {
    "execution": {
     "iopub.execute_input": "2025-09-18T16:49:28.740689Z",
     "iopub.status.busy": "2025-09-18T16:49:28.740295Z",
     "iopub.status.idle": "2025-09-18T16:49:29.081254Z",
     "shell.execute_reply": "2025-09-18T16:49:29.080166Z"
    },
    "papermill": {
     "duration": 0.388386,
     "end_time": "2025-09-18T16:49:29.082853",
     "exception": false,
     "start_time": "2025-09-18T16:49:28.694467",
     "status": "completed"
    },
    "tags": []
   },
   "outputs": [
    {
     "name": "stdout",
     "output_type": "stream",
     "text": [
      "\u001b[1m1/1\u001b[0m \u001b[32m━━━━━━━━━━━━━━━━━━━━\u001b[0m\u001b[37m\u001b[0m \u001b[1m0s\u001b[0m 83ms/step\n"
     ]
    },
    {
     "data": {
      "image/png": "[encoded data removed]",
      "text/plain": [
       "<Figure size 640x480 with 1 Axes>"
      ]
     },
     "metadata": {},
     "output_type": "display_data"
    }
   ],
   "source": [
    "# Select an image from the test set (you can change the index)\n",
    "image_index = 7\n",
    "image_to_predict = x_test[image_index]\n",
    "true_label = np.argmax(y_test[image_index]) # Get the actual number\n",
    "\n",
    "# The model expects a batch of images, so we add a dimension\n",
    "prediction = model.predict(np.array([image_to_predict]))\n",
    "predicted_digit = np.argmax(prediction)\n",
    "\n",
    "# Display the image and the prediction\n",
    "plt.imshow(image_to_predict.reshape(28, 28), cmap='Greys')\n",
    "plt.title(f\"Prediction: {predicted_digit} | True Label: {true_label}\")\n",
    "plt.show()"
   ]
  },
  {
   "cell_type": "code",
   "execution_count": null,
   "id": "d75e5a3b",
   "metadata": {
    "papermill": {
     "duration": 0.115526,
     "end_time": "2025-09-18T16:49:29.241458",
     "exception": false,
     "start_time": "2025-09-18T16:49:29.125932",
     "status": "completed"
    },
    "tags": []
   },
   "outputs": [],
   "source": []
  }
 ],
 "metadata": {
  "kaggle": {
   "accelerator": "none",
   "dataSources": [],
   "dockerImageVersionId": 31089,
   "isGpuEnabled": false,
   "isInternetEnabled": true,
   "language": "python",
   "sourceType": "notebook"
  },
  "kernelspec": {
   "display_name": "Python 3",
   "language": "python",
   "name": "python3"
  },
  "language_info": {
   "codemirror_mode": {
    "name": "ipython",
    "version": 3
   },
   "file_extension": ".py",
   "mimetype": "text/x-python",
   "name": "python",
   "nbconvert_exporter": "python",
   "pygments_lexer": "ipython3",
   "version": "3.11.13"
  },
  "papermill": {
   "default_parameters": {},
   "duration": 77.025755,
   "end_time": "2025-09-18T16:49:32.452421",
   "environment_variables": {},
   "exception": null,
   "input_path": "__notebook__.ipynb",
   "output_path": "__notebook__.ipynb",
   "parameters": {},
   "start_time": "2025-09-18T16:48:15.426666",
   "version": "2.6.0"
  }
 },
 "nbformat": 4,
 "nbformat_minor": 5
}
